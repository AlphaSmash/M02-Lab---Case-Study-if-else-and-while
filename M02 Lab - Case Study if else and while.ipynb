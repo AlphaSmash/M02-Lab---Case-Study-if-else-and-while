{
 "cells": [
  {
   "cell_type": "code",
   "execution_count": 1,
   "id": "3b781e97",
   "metadata": {},
   "outputs": [
    {
     "name": "stdout",
     "output_type": "stream",
     "text": [
      "Please enter the student's last name (to quit enter 'ZZZ')Lawson\n",
      "Please enter the student's first nameMarshall\n",
      "Please enter the student's GPA3.89\n",
      "Marshall Lawson has made the Dean's List and Honor Roll\n",
      "Please enter the student's last name (to quit enter 'ZZZ')Johnson\n",
      "Please enter the student's first nameAlex\n",
      "Please enter the student's GPA2.11\n",
      "Alex Johnson has not made Honor Roll or the Dean's List\n",
      "Please enter the student's last name (to quit enter 'ZZZ')Stewart\n",
      "Please enter the student's first nameChris\n",
      "Please enter the student's GPA3.26\n",
      "Chris Stewart has made Honor Roll\n",
      "Please enter the student's last name (to quit enter 'ZZZ')Martin\n",
      "Please enter the student's first nameKevin\n",
      "Please enter the student's GPA1.8\n",
      "Kevin Martin has not made Honor Roll or the Dean's List\n",
      "Please enter the student's last name (to quit enter 'ZZZ')Jacobs\n",
      "Please enter the student's first nameMark\n",
      "Please enter the student's GPA3.77\n",
      "Mark Jacobs has made the Dean's List and Honor Roll\n",
      "Please enter the student's last name (to quit enter 'ZZZ')ZZZ\n"
     ]
    }
   ],
   "source": [
    "\"\"\"\n",
    "Marshall Lawson\n",
    "M02 Lab - Case Study if else and while\n",
    "This app will allow students names to be input into a system and then enter their GPA this will then sort and see if the student made honor roll or Dean's list\n",
    "\"\"\"\n",
    "last_name = input(\"Please enter the student's last name (to quit enter 'ZZZ')\")\n",
    "while last_name != 'ZZZ':\n",
    "    first_name = input(\"Please enter the student's first name\")\n",
    "    gpa = float(input(\"Please enter the student's GPA\"))\n",
    "    if gpa >= 3.5:\n",
    "        print(first_name, last_name, \"has made the Dean's List and Honor Roll\")\n",
    "    elif gpa >= 3.25 and gpa < 3.5:\n",
    "        print(first_name, last_name, \"has made Honor Roll\")\n",
    "    else:\n",
    "        print(first_name, last_name, \"has not made Honor Roll or the Dean's List\")\n",
    "    last_name = input(\"Please enter the student's last name (to quit enter 'ZZZ')\")"
   ]
  }
 ],
 "metadata": {
  "kernelspec": {
   "display_name": "Python 3 (ipykernel)",
   "language": "python",
   "name": "python3"
  },
  "language_info": {
   "codemirror_mode": {
    "name": "ipython",
    "version": 3
   },
   "file_extension": ".py",
   "mimetype": "text/x-python",
   "name": "python",
   "nbconvert_exporter": "python",
   "pygments_lexer": "ipython3",
   "version": "3.11.5"
  }
 },
 "nbformat": 4,
 "nbformat_minor": 5
}
